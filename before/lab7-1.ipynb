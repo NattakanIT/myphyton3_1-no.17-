{
 "cells": [
  {
   "cell_type": "code",
   "execution_count": 3,
   "metadata": {},
   "outputs": [
    {
     "name": "stdout",
     "output_type": "stream",
     "text": [
      "ชื่อพนักงาน: trin\n",
      "เงินเดือน: 50000\n",
      "ค่าล่วงเวลา: 11250000.0\n",
      "เงินเดือนทั้งหมด: 11300000.0\n"
     ]
    }
   ],
   "source": [
    "name =str(input(\"กรุณาป้อนชื่อพนักงาน: \"))\n",
    "money = int(input(\"กรุณาป้อนเงินเดือน: \"))\n",
    "time = float(input(\"กรุณาป้อนชั่วโมงงาน: \"))\n",
    "def Calculator (time):\n",
    "    if time > 40: \n",
    "        a = time * 150\n",
    "    else:\n",
    "        a = time * 100\n",
    "    return a \n",
    "def Calculator1 (money, time):\n",
    "    if time > 40:\n",
    "        a = time * 150\n",
    "        b = money + a \n",
    "    else:\n",
    "        a = time * 100\n",
    "        b = money + a\n",
    "    return b\n",
    "\n",
    "\n",
    "L = Calculator (time)\n",
    "O = Calculator1 (money,time)\n",
    "print(\"ชื่อพนักงาน:\", name)\n",
    "print(\"เงินเดือน:\", money)\n",
    "print(\"ค่าล่วงเวลา:\", L)\n",
    "print(\"เงินเดือนทั้งหมด:\", O)"
   ]
  }
 ],
 "metadata": {
  "kernelspec": {
   "display_name": "Python 3",
   "language": "python",
   "name": "python3"
  },
  "language_info": {
   "codemirror_mode": {
    "name": "ipython",
    "version": 3
   },
   "file_extension": ".py",
   "mimetype": "text/x-python",
   "name": "python",
   "nbconvert_exporter": "python",
   "pygments_lexer": "ipython3",
   "version": "3.12.4"
  }
 },
 "nbformat": 4,
 "nbformat_minor": 2
}
