{
 "cells": [
  {
   "cell_type": "code",
   "execution_count": 1,
   "metadata": {},
   "outputs": [
    {
     "name": "stdout",
     "output_type": "stream",
     "text": [
      "คะแนนรวม: 40\n"
     ]
    }
   ],
   "source": [
    "def EXA(h, m ,f):\n",
    "    total_score = h + m + f\n",
    "    return total_score\n",
    "\n",
    "h = int(input(\"คะแนนเก็บ (ไม่เกิน 20 คะแนน):\"))\n",
    "while h > 20:\n",
    "    print(\"ไม่สามารถใส่คะแนนมากกว่า 20 คะแนนได้ ในคะแนนเก็บ\")\n",
    "    h = int(input(\"กรุณาใส่คะแนนการเก็บ (ไม่เกิน 20 คะแนน):\"))\n",
    "    \n",
    "m = int(input(\"คะแนนจิตพิสัย (ไม่เกิน 10 คะแนน):\"))\n",
    "while m > 10:\n",
    "    print(\"ไม่สามารถใส่คะแนนมากกว่า 10 คะแนนได้ ในคะแนนจิตพิสัย\")\n",
    "    m = int(input(\"กรุณาใส่คะแนนจิตพิสัย(ไม่เกิน 10 คะแนน):\"))\n",
    "    \n",
    "f = int(input(\"คะแนนสอบกลางภาค (ไม่เกิน 20 คะแนน):\"))\n",
    "while f > 20:\n",
    "    print(\"ไม่สามารถใส่คะแนนมากกว่า 20 คะแนนได้ ในคะแนนสอบปลายภาค\")\n",
    "    f = int(input(\"กรุณาใส่คะแนนสอบปลายกลางภาค (ไม่เกิน 20 คะแนน):\"))\n",
    "total_score = EXA(h, m, f)\n",
    "print(\"คะแนนรวม:\", total_score)"
   ]
  }
 ],
 "metadata": {
  "kernelspec": {
   "display_name": "Python 3",
   "language": "python",
   "name": "python3"
  },
  "language_info": {
   "codemirror_mode": {
    "name": "ipython",
    "version": 3
   },
   "file_extension": ".py",
   "mimetype": "text/x-python",
   "name": "python",
   "nbconvert_exporter": "python",
   "pygments_lexer": "ipython3",
   "version": "3.12.4"
  }
 },
 "nbformat": 4,
 "nbformat_minor": 2
}
